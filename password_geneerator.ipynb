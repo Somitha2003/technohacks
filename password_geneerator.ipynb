{
  "nbformat": 4,
  "nbformat_minor": 0,
  "metadata": {
    "colab": {
      "private_outputs": true,
      "provenance": [],
      "authorship_tag": "ABX9TyMASI4uzKlSSRhTu1FPUsPz",
      "include_colab_link": true
    },
    "kernelspec": {
      "name": "python3",
      "display_name": "Python 3"
    },
    "language_info": {
      "name": "python"
    }
  },
  "cells": [
    {
      "cell_type": "markdown",
      "metadata": {
        "id": "view-in-github",
        "colab_type": "text"
      },
      "source": [
        "<a href=\"https://colab.research.google.com/github/Somitha2003/technohacks/blob/main/password_geneerator.ipynb\" target=\"_parent\"><img src=\"https://colab.research.google.com/assets/colab-badge.svg\" alt=\"Open In Colab\"/></a>"
      ]
    },
    {
      "cell_type": "code",
      "execution_count": null,
      "metadata": {
        "id": "gIwyoTmP08Mx"
      },
      "outputs": [],
      "source": [
        "import random\n",
        "import string\n",
        "chars=string.ascii_letters+string.digits+string.punctuation\n",
        "password=''.join(random.choice(chars)for i in range(8))\n",
        "print(\"Random password is:\",password)\n",
        "\n",
        "\n",
        "\n",
        "def password_gen(char_length,num_length,symbol_length):\n",
        "  c=\"abcdefghijklmnopqrstuvwxyzABCDEFGHIJKLMNOPQRSTUVWXYZ\"\n",
        "  nums=\"0123456789\"\n",
        "  symbols=\"!@#$%^&*()\"\n",
        "\n",
        "  selectedchars=random.sample(c,char_length)\n",
        "  selectednums=random.sample(nums,num_length)\n",
        "  selectedsymbols=random.sample(symbols,symbol_length)\n",
        "\n",
        "  password_list=selectedchars+selectednums+selectedsymbols\n",
        "\n",
        "  random.shuffle(password_list)\n",
        "  password_str=''.join(password_list)\n",
        "  return password_str\n",
        "char_length=int(input(\"Enter the number of characters in your password\"))\n",
        "num_length=int(input(\"Enter the number of numbers in your password\"))\n",
        "symbol_length=int(input(\"Enter the number of symbols in your password\"))\n",
        "password=password_gen(char_length,num_length,symbol_length)\n",
        "print(\"The randomly generated password is: \",password)\n",
        "\n"
      ]
    }
  ]
}